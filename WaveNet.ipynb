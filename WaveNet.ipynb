{
 "cells": [
  {
   "cell_type": "code",
   "execution_count": 2,
   "metadata": {},
   "outputs": [],
   "source": [
    "import tensorflow as tf\n",
    "import numpy as np\n",
    "\n",
    "class DilatedResidualConv(tf.keras.Model):\n",
    "    def __init__(self, n_channel, filter_size, dilation_size):\n",
    "        super().__init__()\n",
    "        self.dilated_conv = tf.keras.layers.Conv2D(\n",
    "            n_channel * 2, (self.filter_size, 1), \n",
    "            padding='same', dilation_rate=(dilation_size, 1)\n",
    "        )\n",
    "        self.merge_conv = tf.keras.layers.Conv2D(\n",
    "            n_channel, (1, 1), padding='same',\n",
    "        )\n",
    "        \n",
    "    @tf.function\n",
    "    def call(self, x):\n",
    "        x = self.dilated_conv(x)\n",
    "        tanh, sign = tf.split(x, 2, axis=1)\n",
    "        tanh = tf.nn.tanh(tanh)\n",
    "        sign = tf.nn.sigmoid(sign)\n",
    "        return self.merge_conv(sign * tanh)\n",
    "          \n",
    "    \n",
    "class ResidualConvNet(tf.keras.Model):\n",
    "    def __init__(self, n_depth, n_layers = 4, filter_size=2):\n",
    "        super().__init__()\n",
    "        self.conv_layers = []\n",
    "        for i in range(n_layers):\n",
    "            self.conv_layers.append(\n",
    "                DilatedResidualConv(n_depth, n_layers, (i + 1) * 2)\n",
    "            )\n",
    "\n",
    "    def call(self, x):\n",
    "        results = []\n",
    "        for conv in self.conv_layers:\n",
    "            y = conv(x)\n",
    "            results.append(y)\n",
    "            x += y\n",
    "        return sum(results)\n",
    "\n",
    "class WaveNetPredictor(tf.keras.Sequential):\n",
    "    def __init__(self, n_dim):\n",
    "        super().__init__([\n",
    "            tf.nn.relu,\n",
    "            tf.keras.layers.Conv2D(n_dim, (1, 1), padding='SAME', activation='relu'),\n",
    "            tf.keras.layers.Conv2D(n_dim, (1, 1), padding='SAME'),\n",
    "            tf.keras.layers.Flatten(),\n",
    "            tf.keras.Dense(n_dim)\n",
    "        ])\n",
    "        \n",
    "    \n",
    "class WaveNet(tf.keras.Model):\n",
    "    def __init__(self, n_pred_dim, n_depth, n_layers = 4, filter_size=2):\n",
    "        self.resnet = ResidualConvNet(n_depth, n_layers, filter_size)\n",
    "        self.predictor = WaveNetPredictor(n_pred_dim)\n",
    "    \n",
    "    @tf.function\n",
    "    def call(self, x):\n",
    "        return self.predictor(self.resnet(x))\n",
    "    \n",
    "class MuLaw(object):\n",
    "    def __init__(self, mu=255, int_type=np.int32, float_type=np.float32):\n",
    "        self.mu = mu\n",
    "        self.int_type = int_type\n",
    "        self.float_type = float_type\n",
    "\n",
    "    def transform(self, x):\n",
    "        x = x.astype(self.float_type)\n",
    "        y = np.sign(x) * np.log(1 + self.mu * np.abs(x)) / np.log(1 + self.mu)\n",
    "        y = np.digitize(y, 2 * np.arange(self.mu) / self.mu - 1) - 1\n",
    "        return y.astype(self.int_type)\n",
    "\n",
    "    def inverse_transform(self, y):\n",
    "        y = y.astype(self.float_type)\n",
    "        y = 2 * y / self.mu - 1\n",
    "        x = np.sign(y) / self.mu * ((1 + self.mu) ** np.abs(y) - 1)\n",
    "        return x.astype(self.float_type)"
   ]
  },
  {
   "cell_type": "code",
   "execution_count": 7,
   "metadata": {},
   "outputs": [],
   "source": [
    "fold_index = 0\n",
    "task = 'home'"
   ]
  },
  {
   "cell_type": "code",
   "execution_count": 25,
   "metadata": {},
   "outputs": [
    {
     "data": {
      "application/vnd.jupyter.widget-view+json": {
       "model_id": "03959aaac03d4cbe8b211eddbbf83b79",
       "version_major": 2,
       "version_minor": 0
      },
      "text/plain": [
       "HBox(children=(FloatProgress(value=0.0, max=7.0), HTML(value='')))"
      ]
     },
     "metadata": {},
     "output_type": "display_data"
    },
    {
     "name": "stdout",
     "output_type": "stream",
     "text": [
      "\n"
     ]
    }
   ],
   "source": [
    "# Load training setup\n",
    "import pandas as pd\n",
    "from pathlib import Path\n",
    "import wavio\n",
    "from tqdm.notebook import tqdm\n",
    "\n",
    "root_dir = Path('evaluation_setup')\n",
    "\n",
    "def get_annotation(task, fold_index, target):\n",
    "    df = pd.read_csv(\n",
    "        root_dir / f'{task}_fold{fold_index+1}_{target}.txt', sep='\\t', \n",
    "        header=None, names=['file', 'class', 'start', 'end', 'event']\n",
    "    )\n",
    "    df['id'] = df['file'].apply(lambda x: Path(x).stem)\n",
    "    return df\n",
    "\n",
    "def load_dataset(target):\n",
    "    df = get_annotation(task, fold_index, target)\n",
    "    wav_dict = {}\n",
    "    for file in tqdm(df['file'].unique()):\n",
    "        wav_dict[Path(file).stem] = wavio.readwav(str(file))\n",
    "    return df, wav_dict\n",
    "\n",
    "df, wav_dict = load_dataset('train')\n"
   ]
  },
  {
   "cell_type": "code",
   "execution_count": 1,
   "metadata": {},
   "outputs": [],
   "source": [
    "n_sampling = 8192\n"
   ]
  },
  {
   "cell_type": "code",
   "execution_count": null,
   "metadata": {},
   "outputs": [],
   "source": []
  }
 ],
 "metadata": {
  "kernelspec": {
   "display_name": "Python 3",
   "language": "python",
   "name": "python3"
  },
  "language_info": {
   "codemirror_mode": {
    "name": "ipython",
    "version": 3
   },
   "file_extension": ".py",
   "mimetype": "text/x-python",
   "name": "python",
   "nbconvert_exporter": "python",
   "pygments_lexer": "ipython3",
   "version": "3.7.6"
  }
 },
 "nbformat": 4,
 "nbformat_minor": 4
}
